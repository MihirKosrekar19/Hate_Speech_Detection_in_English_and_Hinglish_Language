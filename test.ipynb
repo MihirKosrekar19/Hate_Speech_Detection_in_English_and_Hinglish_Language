{
 "cells": [
  {
   "cell_type": "code",
   "execution_count": 1,
   "metadata": {},
   "outputs": [],
   "source": [
    "import pickle\n",
    "from sklearn.feature_extraction.text import CountVectorizer"
   ]
  },
  {
   "cell_type": "code",
   "execution_count": 2,
   "metadata": {},
   "outputs": [],
   "source": [
    "count_vector = CountVectorizer(stop_words='english', lowercase=True, vocabulary=pickle.load(open(\"vector_vocabulary.pkl\", \"rb\")))"
   ]
  },
  {
   "cell_type": "code",
   "execution_count": 3,
   "metadata": {},
   "outputs": [],
   "source": [
    "def predict_hate_speech(text):\n",
    "    speech_vector = count_vector.transform([text])\n",
    "    model = pickle.load(open('RandomForestClassifier.pkl', 'rb'))\n",
    "            \n",
    "    prediction = model.predict(speech_vector)\n",
    "    print(f\"Prediction:\", \"Hate Speech\" if prediction == 1 else \"Non-Hate Speech\")\n",
    "\n",
    "    if hasattr(model, \"predict_proba\"):\n",
    "        probabilities = model.predict_proba(speech_vector)\n",
    "        print(f\"Probability:\", round(max(probabilities[0]),2))"
   ]
  },
  {
   "cell_type": "code",
   "execution_count": 4,
   "metadata": {},
   "outputs": [],
   "source": [
    "data=[\n",
    "    \"You are a good boy.\",\n",
    "    \"What the hell!\",\n",
    "    \"Your work is shit.\",\n",
    "    \"Your work is hit.\"\n",
    "]"
   ]
  },
  {
   "cell_type": "code",
   "execution_count": 5,
   "metadata": {},
   "outputs": [
    {
     "name": "stdout",
     "output_type": "stream",
     "text": [
      "\n",
      "Speech= You are a good boy.\n",
      "Prediction: Non-Hate Speech\n",
      "Probability: 0.63\n",
      "\n",
      "Speech= What the hell!\n",
      "Prediction: Hate Speech\n",
      "Probability: 1.0\n",
      "\n",
      "Speech= Your work is shit.\n",
      "Prediction: Hate Speech\n",
      "Probability: 0.77\n",
      "\n",
      "Speech= Your work is hit.\n",
      "Prediction: Non-Hate Speech\n",
      "Probability: 0.96\n"
     ]
    }
   ],
   "source": [
    "for text in data:\n",
    "    print(f\"\\nSpeech= {text}\")\n",
    "    predict_hate_speech(text)"
   ]
  }
 ],
 "metadata": {
  "kernelspec": {
   "display_name": "base",
   "language": "python",
   "name": "python3"
  },
  "language_info": {
   "codemirror_mode": {
    "name": "ipython",
    "version": 3
   },
   "file_extension": ".py",
   "mimetype": "text/x-python",
   "name": "python",
   "nbconvert_exporter": "python",
   "pygments_lexer": "ipython3",
   "version": "3.12.4"
  }
 },
 "nbformat": 4,
 "nbformat_minor": 2
}
